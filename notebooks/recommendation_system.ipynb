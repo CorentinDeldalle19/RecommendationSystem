{
 "cells": [
  {
   "cell_type": "markdown",
   "metadata": {},
   "source": "# Recommendation system"
  },
  {
   "cell_type": "code",
   "metadata": {
    "vscode": {
     "languageId": "plaintext"
    },
    "ExecuteTime": {
     "end_time": "2025-03-11T13:40:41.675438Z",
     "start_time": "2025-03-11T13:40:41.671314Z"
    }
   },
   "source": [
    "# Import the necessary libraries\n",
    "import numpy as np\n",
    "from src.data_preprocessing import loadData, preprocessData\n",
    "from src.recommendation import recommendMovies\n",
    "from sklearn.metrics.pairwise import cosine_similarity"
   ],
   "outputs": [],
   "execution_count": 2
  },
  {
   "metadata": {
    "ExecuteTime": {
     "end_time": "2025-03-11T13:57:07.689918Z",
     "start_time": "2025-03-11T13:57:07.678412Z"
    }
   },
   "cell_type": "code",
   "source": [
    "# Data loading and pre-processing\n",
    "movies_path = '../data/Amazon- Movies and Films.csv'\n",
    "movies = loadData(movies_path)\n",
    "movies = preprocessData(movies)"
   ],
   "outputs": [],
   "execution_count": 14
  },
  {
   "metadata": {
    "ExecuteTime": {
     "end_time": "2025-03-11T13:58:28.400172Z",
     "start_time": "2025-03-11T13:58:28.393963Z"
    }
   },
   "cell_type": "code",
   "source": [
    "# Select numerical features for similarity calculation\n",
    "features = movies.select_dtypes(include=[np.number])\n",
    "\n",
    "# Calculate the cosine similarity matrix\n",
    "similarity_matrix = cosine_similarity(features)\n",
    "\n",
    "# Example of a recommendation for the first film in the dataset\n",
    "movie_index = 489\n",
    "recommended_movies = recommendMovies(movie_index, similarity_matrix, movies, 3)\n",
    "\n",
    "# Display recommendations\n",
    "print(recommended_movies[['title', 'Movie_Rating', 'No_of_Ratings', 'ReleaseYear']])"
   ],
   "outputs": [
    {
     "name": "stdout",
     "output_type": "stream",
     "text": [
      "                title  Movie_Rating  No_of_Ratings  ReleaseYear\n",
      "1394  You've Got Mail      1.139762          17518         1998\n",
      "1414            Shrek      1.595125          17812         2001\n",
      "1184       Queen Bees     -0.681689          17100         2021\n"
     ]
    }
   ],
   "execution_count": 20
  }
 ],
 "metadata": {
  "language_info": {
   "name": "python"
  },
  "kernelspec": {
   "name": "python3",
   "language": "python",
   "display_name": "Python 3 (ipykernel)"
  }
 },
 "nbformat": 4,
 "nbformat_minor": 2
}
